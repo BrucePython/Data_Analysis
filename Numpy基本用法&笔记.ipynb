{
 "cells": [
  {
   "cell_type": "markdown",
   "metadata": {},
   "source": [
    "# Numpy的优点：\n",
    "    \n",
    "    1. 可分配连续的内存空间 --> 处理速度快\n",
    "    2. 矩阵运算，CPU指令运算（并行化） --> 处理速度快\n",
    "\n",
    "- 列表的缺点：\n",
    "    - 随机分配空间 --> 处理速度慢\n",
    "    - GIL锁，解释性语言 --> 处理速度慢\n",
    "    \n",
    "- Numpy与Pandas\n",
    "    - 逻辑（选择，合并，分析）处理：pandas\n",
    "    - 运算处理：numpy"
   ]
  },
  {
   "cell_type": "code",
   "execution_count": 2,
   "metadata": {},
   "outputs": [
    {
     "name": "stdout",
     "output_type": "stream",
     "text": [
      "5.265557050704956 0.5102479457855225\n"
     ]
    }
   ],
   "source": [
    "import numpy as np\n",
    "import random\n",
    "import time\n",
    "\n",
    "a = []\n",
    "for i in range(100000000): \n",
    "    a.append(random.random())\n",
    "t1 = time.time()\n",
    "sum1=sum(a)\n",
    "t2=time.time()\n",
    "\n",
    "b=np.array(a)\n",
    "t4=time.time()\n",
    "sum3=np.sum(b)\n",
    "t5=time.time()\n",
    "print(t2-t1, t5-t4)"
   ]
  },
  {
   "cell_type": "markdown",
   "metadata": {},
   "source": [
    "# 1. Numpy的属性和存储方式："
   ]
  },
  {
   "cell_type": "code",
   "execution_count": 3,
   "metadata": {},
   "outputs": [
    {
     "name": "stdout",
     "output_type": "stream",
     "text": [
      "<class 'numpy.ndarray'>\n",
      "(3,)\n",
      "<class 'numpy.ndarray'>\n",
      "(2, 3)\n",
      "2\n",
      "int32\n",
      "6\n",
      "<class 'numpy.ndarray'>\n",
      "(2, 2, 3)\n"
     ]
    }
   ],
   "source": [
    "# 一维：\n",
    "a1 = np.array([1,2,3])\n",
    "print(type(a1))    # <class 'numpy.ndarray'>\n",
    "print(a1.shape)    # (3,)  三个元素\n",
    "\n",
    "\n",
    "# 二维：\n",
    "a2 = np.array([[1,2,3],[4,5,6]], dtype=np.int32)   # dtype= 指定存储数组的类型\n",
    "print(type(a2))\n",
    "print(a2.shape)    # (2, 3) 二行三列的表格\n",
    "print(a2.ndim)     # 返回数组的维度数: 2\n",
    "print(a2.dtype)    # 返回数组的类型，默认 dtype('int64')\n",
    "print(a2.size)     # 返回数组的元素个数: 6\n",
    "\n",
    "# 三维：\n",
    "a3 = np.array([[[1,2,3],[4,5,6]],[[7,8,9],[10,11,12]]])\n",
    "print(type(a3))\n",
    "print(a3.shape)    # (2, 2, 3) 两张二行三列的表格\n",
    "\n",
    "\n",
    "# 自动优化c或fortran进行数组运算，\n",
    "# 查看方式: ndarray.flags"
   ]
  },
  {
   "cell_type": "code",
   "execution_count": 4,
   "metadata": {},
   "outputs": [
    {
     "data": {
      "text/plain": [
       "  C_CONTIGUOUS : True\n",
       "  F_CONTIGUOUS : False\n",
       "  OWNDATA : True\n",
       "  WRITEABLE : True\n",
       "  ALIGNED : True\n",
       "  WRITEBACKIFCOPY : False\n",
       "  UPDATEIFCOPY : False"
      ]
     },
     "execution_count": 4,
     "metadata": {},
     "output_type": "execute_result"
    }
   ],
   "source": [
    "a2.flags"
   ]
  },
  {
   "cell_type": "markdown",
   "metadata": {},
   "source": [
    "# 2. numpy基本操作方法："
   ]
  },
  {
   "cell_type": "code",
   "execution_count": 5,
   "metadata": {},
   "outputs": [
    {
     "name": "stdout",
     "output_type": "stream",
     "text": [
      "[[1. 1. 1.]\n",
      " [1. 1. 1.]]\n",
      "[[0. 0. 0.]\n",
      " [0. 0. 0.]]\n"
     ]
    }
   ],
   "source": [
    "# 2.1 创建数组：\n",
    "\n",
    "print(np.ones([2,3]))    # 创建一个两行三列，元素全为1的数组\n",
    "print(np.zeros([2,3]))    # 创建一个两行三列，元素全为0的数组"
   ]
  },
  {
   "cell_type": "code",
   "execution_count": 6,
   "metadata": {},
   "outputs": [
    {
     "name": "stdout",
     "output_type": "stream",
     "text": [
      "array2: [[1 2 3]\n",
      " [4 5 6]] array3: [[1 1 1]\n",
      " [4 5 6]]\n"
     ]
    }
   ],
   "source": [
    "# 2.1.1 从现有的数据创建数组\n",
    "\n",
    "array1 = np.array([[1,2,3],[4,5,6]])\n",
    "array2 = np.array(array1)    # 创建一个新的内存空间，储存array1；若array1变，array2不变\n",
    "array3 = np.asarray(array1)  # 创建一个引用，指向array1； 若array1变，则array3变\n",
    "\n",
    "array1[0] = 1    # array1=（2，3），将第一行数据，变成1\n",
    "print(\"array2:\", array2, \"array3:\", array3)"
   ]
  },
  {
   "cell_type": "code",
   "execution_count": 7,
   "metadata": {},
   "outputs": [
    {
     "data": {
      "text/plain": [
       "array([  1.  ,  25.75,  50.5 ,  75.25, 100.  ])"
      ]
     },
     "execution_count": 7,
     "metadata": {},
     "output_type": "execute_result"
    }
   ],
   "source": [
    "# 2.1.2 生成等间隔的数列\n",
    "\n",
    "# 从1到100，生成5个等间距的数组\n",
    "np.linspace(1,100,5)    # start=1，end=100, num=5\n",
    "# np.arrange(start,stop,step,dtype)\n",
    "# np.logspace(start,stop,num,endpoint,base,dtype)"
   ]
  },
  {
   "cell_type": "code",
   "execution_count": 8,
   "metadata": {},
   "outputs": [],
   "source": [
    "# 2.1.3 创建随机数组\n",
    "\n",
    "a = np.random.rand(10)       # 随机产生一个数组，包含10个0-1的元素，类型numpy.ndarray\n",
    "b = np.random.uniform(1,100) # 随机产生一个0-100的元素，类型float\n",
    "c = np.random.randint(100)   # 同上，类型int\n"
   ]
  },
  {
   "cell_type": "markdown",
   "metadata": {},
   "source": [
    "### 2.1.4 正态分布（高斯分布）：\n",
    "\n",
    "- 意义：\n",
    "    - 符合现实生活数据分布的一个规律\n",
    "- 平均值（u）：决定大部分数据的位置\n",
    "- 方差：反应数据的离散程度\n",
    "    - 计算方式：sum[(每个样本 - theta)^2] / 总样本数\n",
    "    - 方差越大，数据越离散；方差越小，数据越集中\n",
    "    - 标准差（theta/σ） = root(方差)\n",
    "\n",
    "- 标准正态分布\n",
    "    - mean=0, stddev=1\n",
    "    - np.random.standard_normal(size=(3,4))\n"
   ]
  },
  {
   "cell_type": "code",
   "execution_count": 9,
   "metadata": {},
   "outputs": [
    {
     "data": {
      "text/plain": [
       "array([[1.74755439, 1.76536994, 1.75284495, 1.76178804],\n",
       "       [1.76494094, 1.75330065, 1.75107303, 1.74883455],\n",
       "       [1.75176678, 1.75032213, 1.72900676, 1.73699649]])"
      ]
     },
     "execution_count": 9,
     "metadata": {},
     "output_type": "execute_result"
    }
   ],
   "source": [
    "np.random.normal(1.75,0.01,(3,4))    # mean=1.75, stddev=0.01, 三行四列(12个人)"
   ]
  },
  {
   "cell_type": "markdown",
   "metadata": {},
   "source": [
    "## 案例：随机生成500个公司，2年交易日的股票涨跌幅\n",
    "\n",
    "- 每年交易日（除去节假日）：252天\n",
    "- 2年的交易日：252*2=504天\n",
    "- 随机生成涨跌幅在某个正态分布内，比如标准正态分布\n",
    "- 获取第一支股票的前100个交易日的涨跌幅数据"
   ]
  },
  {
   "cell_type": "code",
   "execution_count": 36,
   "metadata": {},
   "outputs": [],
   "source": [
    "stock_day_rise = np.random.standard_normal(size=(500,504))    # 行：公司，列：天数"
   ]
  },
  {
   "cell_type": "code",
   "execution_count": 37,
   "metadata": {},
   "outputs": [
    {
     "data": {
      "text/plain": [
       "array([[-1.36207867, -1.83181991, -0.90422753, -0.89406768, -0.35147564,\n",
       "         0.22259611,  0.84635215,  0.4584213 , -0.04778862,  1.51881511,\n",
       "         0.38628231, -1.43460497,  0.1393711 ,  1.10288868, -0.61007672,\n",
       "        -0.65376275,  0.41967515, -2.33301927,  1.29490876,  0.33300403,\n",
       "        -1.39037067,  0.11609492, -0.55577174, -1.43066955, -1.26522411,\n",
       "         0.02402035,  0.40490395, -1.00324258,  0.04028264, -0.06605067,\n",
       "         1.32671821,  0.09509136, -0.68429143,  0.49196225,  1.04753434,\n",
       "         2.21674692, -0.40784244,  0.64872525, -0.52290709,  1.65674897,\n",
       "        -0.75324315, -2.02135422, -0.89332603, -0.27645114,  0.45796476,\n",
       "         1.07089281, -1.93093242,  0.82477906,  1.14743623,  0.21601511,\n",
       "         0.93974966,  0.15688137, -0.35018282, -0.50989966, -1.20884884,\n",
       "        -1.50380146, -0.75030321, -0.4300458 , -0.36372306, -0.11605075,\n",
       "         0.5476353 , -0.85965722,  0.23510224,  0.00269755,  0.58991153,\n",
       "         0.7626343 ,  2.5989136 ,  1.61237329, -0.17336993, -1.07068107,\n",
       "        -2.22899308,  0.69345044,  0.2143026 , -1.86757029, -0.94437192,\n",
       "        -0.30055346,  0.03850391, -0.39093412,  1.21797888, -0.02966159,\n",
       "         0.24729357, -0.22750249,  0.47975272, -0.53590568, -1.16726368,\n",
       "        -0.43780877, -1.16230214, -1.22244384,  0.05452437,  0.75374149,\n",
       "         0.21392882, -0.06886496, -0.67835158,  0.65479601,  0.87023078,\n",
       "         0.75015534,  0.51957297,  0.09653044, -0.52796254, -0.88165768,\n",
       "        -1.09398438]])"
      ]
     },
     "execution_count": 37,
     "metadata": {},
     "output_type": "execute_result"
    }
   ],
   "source": [
    "stock_day_rise[0:1, :101]      # [行，列]\n",
    "# stock_day_rise[0][:100]      # [第一行][前100个数据]，结果同上\n",
    "# stock_day_rise[0][100]    # 0.0147"
   ]
  },
  {
   "cell_type": "markdown",
   "metadata": {},
   "source": [
    "### 2.2 索引"
   ]
  },
  {
   "cell_type": "code",
   "execution_count": 20,
   "metadata": {},
   "outputs": [
    {
     "data": {
      "text/plain": [
       "array([ 0.43165614, -2.34652011,  2.05116877, -1.88721748])"
      ]
     },
     "execution_count": 20,
     "metadata": {},
     "output_type": "execute_result"
    }
   ],
   "source": [
    "# 获取前4个公司，前4天的交易日涨跌幅\n",
    "stock_day_rise[0:4,0:4]\n",
    "\n",
    "# 获取第4个公司，前4天的交易日涨跌幅\n",
    "# stock_day_rise[4,0:4]"
   ]
  },
  {
   "cell_type": "code",
   "execution_count": 21,
   "metadata": {},
   "outputs": [
    {
     "data": {
      "text/plain": [
       "array([[1, 2, 3],\n",
       "       [4, 5, 6]])"
      ]
     },
     "execution_count": 21,
     "metadata": {},
     "output_type": "execute_result"
    }
   ],
   "source": [
    "a3 = np.array([[[1,2,3],[4,5,6]],[[7,8,9],[10,11,12]]])\n",
    "a3[0]    # 获取第一张表，（2,3）"
   ]
  },
  {
   "cell_type": "markdown",
   "metadata": {},
   "source": [
    "### 2.3 改变形状"
   ]
  },
  {
   "cell_type": "code",
   "execution_count": 24,
   "metadata": {},
   "outputs": [
    {
     "name": "stdout",
     "output_type": "stream",
     "text": [
      "(500, 504)\n",
      "(504, 500)\n"
     ]
    }
   ],
   "source": [
    "print(stock_day_rise.shape)\n",
    "# 把500行504列，变成504列500行，返回一个新数组\n",
    "print(stock_day_rise.reshape([504,500]).shape)"
   ]
  },
  {
   "cell_type": "markdown",
   "metadata": {},
   "source": [
    "### 2.4 修改数据类型"
   ]
  },
  {
   "cell_type": "code",
   "execution_count": 28,
   "metadata": {},
   "outputs": [
    {
     "data": {
      "text/plain": [
       "dtype('int64')"
      ]
     },
     "execution_count": 28,
     "metadata": {},
     "output_type": "execute_result"
    }
   ],
   "source": [
    "stock_day_rise.dtype    # dtype('float64')\n",
    "stock_day_rise.astype(\"int\").dtype    # dtype('int64')"
   ]
  },
  {
   "cell_type": "markdown",
   "metadata": {},
   "source": [
    "### 2.5 保留小数"
   ]
  },
  {
   "cell_type": "code",
   "execution_count": 29,
   "metadata": {},
   "outputs": [
    {
     "data": {
      "text/plain": [
       "array([[-1.3827,  1.8671, -0.6905],\n",
       "       [ 0.2291, -0.2834, -0.2533],\n",
       "       [-1.2661, -0.1756, -0.5416]])"
      ]
     },
     "execution_count": 29,
     "metadata": {},
     "output_type": "execute_result"
    }
   ],
   "source": [
    "# 保留4位小数\n",
    "np.round(stock_day_rise[0:3,0:3],4)"
   ]
  },
  {
   "cell_type": "markdown",
   "metadata": {},
   "source": [
    "# 2. Numpy相关运算\n",
    "\n",
    "1. 数据筛选运算\n",
    "    1. 逻辑条件运算\n",
    "        - <、 >、 =\n",
    "    2. 通用判断函数\n",
    "        - np.all()、np.unique()\n",
    "        - np.where()\n",
    "            - logical_and、logical_or \n",
    "2. 数据统计运算\n",
    "    - max,min,std,mean,argmax,argmin\n",
    "    \n",
    "3. 数组间运算\n",
    "    - 数组 与 数\n",
    "    - 数组 与 数组\n",
    "    - **矩阵运算**\n",
    "        - 必须是二维数组\n",
    "        - 矩阵的乘法运算\n",
    "            - (m,n) * (n,l) = (m,l)\n",
    "             "
   ]
  },
  {
   "cell_type": "markdown",
   "metadata": {},
   "source": [
    "## 2.1 数据筛选运算"
   ]
  },
  {
   "cell_type": "code",
   "execution_count": 39,
   "metadata": {},
   "outputs": [
    {
     "data": {
      "text/plain": [
       "array([[-1.36207867, -1.83181991, -0.90422753, -0.89406768, -0.35147564],\n",
       "       [-1.92183319, -0.97690434, -0.42584086, -1.38294377,  1.        ]])"
      ]
     },
     "execution_count": 39,
     "metadata": {},
     "output_type": "execute_result"
    }
   ],
   "source": [
    "# 2.1.1 逻辑条件运算\n",
    "\n",
    "# 获取前两个股票，前5个交易日，涨幅大于0.5的数据\n",
    "# stock_day_rise[:2,:5] > 0.5\n",
    "tmp = stock_day_rise[:2,:5].copy()\n",
    "\n",
    "# 把结果数据标记为0.1\n",
    "# stock_day_rise[:2,:5][stock_day_rise[:2,:5] > 0.5] = 1    # 直接改变原数据，所以需要先拷贝【.copy()】，再操作\n",
    "tmp[stock_day_rise[:2,:5] > 0.5] = 1\n",
    " \n",
    "tmp"
   ]
  },
  {
   "cell_type": "code",
   "execution_count": 41,
   "metadata": {},
   "outputs": [
    {
     "data": {
      "text/plain": [
       "array([[-1.36207867, -1.83181991, -0.90422753, -0.89406768, -0.35147564],\n",
       "       [-1.92183319, -0.97690434, -0.42584086, -1.38294377,  1.02321145]])"
      ]
     },
     "execution_count": 41,
     "metadata": {},
     "output_type": "execute_result"
    }
   ],
   "source": [
    "stock_day_rise[:2,:5]"
   ]
  },
  {
   "cell_type": "code",
   "execution_count": 42,
   "metadata": {},
   "outputs": [
    {
     "data": {
      "text/plain": [
       "False"
      ]
     },
     "execution_count": 42,
     "metadata": {},
     "output_type": "execute_result"
    }
   ],
   "source": [
    "# 2.1.2 通用判断函数\n",
    "\n",
    "# 判断这两个公司，前5个交易日，是否全上涨\n",
    "np.all(stock_day_rise[:2,:5]>0)    # False：有涨有跌"
   ]
  },
  {
   "cell_type": "code",
   "execution_count": 43,
   "metadata": {},
   "outputs": [
    {
     "data": {
      "text/plain": [
       "array([1, 2, 3])"
      ]
     },
     "execution_count": 43,
     "metadata": {},
     "output_type": "execute_result"
    }
   ],
   "source": [
    "# 将数组中，唯一且不重复的值，组成新的数组。相当于去重\n",
    "array4 = np.array([[1,2,2],[1,3,2]])\n",
    "np.unique(array4)"
   ]
  },
  {
   "cell_type": "code",
   "execution_count": 44,
   "metadata": {},
   "outputs": [
    {
     "data": {
      "text/plain": [
       "array([[0, 0, 0, 0, 0],\n",
       "       [0, 0, 0, 0, 1]])"
      ]
     },
     "execution_count": 44,
     "metadata": {},
     "output_type": "execute_result"
    }
   ],
   "source": [
    "# 把涨幅大于0.5标记为1，否则为0\n",
    "test = stock_day_rise[:2,:5]\n",
    "np.where(test > 0.5, 1, 0)"
   ]
  },
  {
   "cell_type": "code",
   "execution_count": 45,
   "metadata": {},
   "outputs": [
    {
     "data": {
      "text/plain": [
       "array([[0, 0, 0, 0, 0],\n",
       "       [0, 0, 0, 0, 0]])"
      ]
     },
     "execution_count": 45,
     "metadata": {},
     "output_type": "execute_result"
    }
   ],
   "source": [
    "# 把涨幅在[0.5，1]标记为1，否则为0\n",
    "np.where(np.logical_and(test>0.5, test<1), 1, 0)"
   ]
  },
  {
   "cell_type": "markdown",
   "metadata": {},
   "source": [
    "## 2.2 数据统计运算"
   ]
  },
  {
   "cell_type": "code",
   "execution_count": 49,
   "metadata": {},
   "outputs": [
    {
     "data": {
      "text/plain": [
       "array([[-1.36207867, -1.83181991, -0.90422753, -0.89406768],\n",
       "       [-1.92183319, -0.97690434, -0.42584086, -1.38294377],\n",
       "       [ 2.37735531,  1.69693835,  0.38192999,  0.74203486],\n",
       "       [ 0.36375773,  0.22921611,  1.0113829 , -1.41173861]])"
      ]
     },
     "execution_count": 49,
     "metadata": {},
     "output_type": "execute_result"
    }
   ],
   "source": [
    "# 分析前4支股票，前4天涨幅最大值与最小值\n",
    "stock_4 = stock_day_rise[0:4,0:4].copy()\n",
    "stock_4 # 行：股票，列：天数"
   ]
  },
  {
   "cell_type": "code",
   "execution_count": 53,
   "metadata": {},
   "outputs": [
    {
     "name": "stdout",
     "output_type": "stream",
     "text": [
      "前4支股票，每支股票的最大值： [-0.89406768 -0.42584086  2.37735531  1.0113829 ]\n",
      "前4天，每天的（某支股票）涨幅最大值 [2.37735531 1.69693835 1.0113829  0.74203486]\n",
      "最大跌幅[-1.83181991 -1.92183319  0.38192999 -1.41173861]\n",
      "振幅幅度[0.38642826 0.54805739 0.78619836 0.89323647]\n",
      "平均涨跌幅[-1.24804845 -1.17688054  1.29956463  0.04815453]\n"
     ]
    }
   ],
   "source": [
    "# axis指定轴，axis=1 按行求最大值，axis=0 按列求最大值\n",
    "\n",
    "print(\"前4支股票，每支股票的最大值：\", np.max(stock_4, axis=1))\n",
    "print(\"前4天，每天的（某支股票）涨幅最大值\", np.max(stock_4, axis=0))\n",
    "\n",
    "# 不同指标，考量不同业务\n",
    "\n",
    "# 针对股票来说(axis=1)，获取最小涨幅，平均值，方差\n",
    "print(\"最大跌幅{}\".format(np.min(stock_4, axis=1)))\n",
    "print(\"振幅幅度{}\".format(np.std(stock_4, axis=1)))    # 离散越大，公司越不稳定；离散越小，越稳定\n",
    "print(\"平均涨跌幅{}\".format(np.mean(stock_4, axis=1)))  # >0，每天都在涨；<0，每天都在跌 \n",
    "\n"
   ]
  },
  {
   "cell_type": "code",
   "execution_count": 54,
   "metadata": {},
   "outputs": [
    {
     "name": "stdout",
     "output_type": "stream",
     "text": [
      "最大涨幅的天数[3 2 0 2]\n"
     ]
    }
   ],
   "source": [
    "# 求出最大值，并记录位置(/记录索引)\n",
    "# axis=1 返回某一行最大值的下标\n",
    "print(\"最大涨幅的天数{}\".format(np.argmax(stock_4,axis=1)))    # [3 2 0 2] -->第4、3、1、3天"
   ]
  },
  {
   "cell_type": "markdown",
   "metadata": {},
   "source": [
    "## 2.3 数组间运算"
   ]
  },
  {
   "cell_type": "code",
   "execution_count": 56,
   "metadata": {},
   "outputs": [
    {
     "name": "stdout",
     "output_type": "stream",
     "text": [
      "[[2 3 4]\n",
      " [5 6 7]]\n",
      "[[ 2  4  6]\n",
      " [ 8 10 12]]\n"
     ]
    }
   ],
   "source": [
    "# 2.3.1 数组与数的运算\n",
    "# 底层运算，避免一些for循环操作\n",
    "\n",
    "a = np.array([[1,2,3],[4,5,6]])\n",
    "print(a+1)\n",
    "print(a*2)"
   ]
  },
  {
   "cell_type": "code",
   "execution_count": 57,
   "metadata": {},
   "outputs": [
    {
     "name": "stdout",
     "output_type": "stream",
     "text": [
      "[1, 2, 3, 1, 2, 3]\n"
     ]
    }
   ],
   "source": [
    "b = [1,2,3]\n",
    "print(b*2)    # 把原列表扩大一倍；可用for循环计算"
   ]
  },
  {
   "cell_type": "code",
   "execution_count": 58,
   "metadata": {},
   "outputs": [
    {
     "name": "stdout",
     "output_type": "stream",
     "text": [
      "[[ 8 10 12]\n",
      " [14 16 18]]\n",
      "[[ 7 16 27]\n",
      " [40 55 72]]\n"
     ]
    }
   ],
   "source": [
    "c = np.array([[7,8,9],[10,11,12]])\n",
    "print(a+c)\n",
    "print(a*c)"
   ]
  },
  {
   "cell_type": "code",
   "execution_count": 59,
   "metadata": {},
   "outputs": [
    {
     "data": {
      "text/plain": [
       "array([[14],\n",
       "       [32]])"
      ]
     },
     "execution_count": 59,
     "metadata": {},
     "output_type": "execute_result"
    }
   ],
   "source": [
    "# 矩阵运算：np.matmul()\n",
    "d = [[1],[2],[3]]\n",
    "np.matmul(a,d)"
   ]
  }
 ],
 "metadata": {
  "kernelspec": {
   "display_name": "Python 3",
   "language": "python",
   "name": "python3"
  },
  "language_info": {
   "codemirror_mode": {
    "name": "ipython",
    "version": 3
   },
   "file_extension": ".py",
   "mimetype": "text/x-python",
   "name": "python",
   "nbconvert_exporter": "python",
   "pygments_lexer": "ipython3",
   "version": "3.6.4"
  }
 },
 "nbformat": 4,
 "nbformat_minor": 2
}
